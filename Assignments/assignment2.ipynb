{
 "cells": [
  {
   "cell_type": "markdown",
   "metadata": {},
   "source": [
    "## CS345 Fall 2024 Assignment 2\n",
    "\n",
    "Updated 9/13/2024"
   ]
  },
  {
   "cell_type": "markdown",
   "metadata": {
    "jp-MarkdownHeadingCollapsed": true
   },
   "source": [
    "### Preliminaries\n",
    "\n",
    "We'll start with a review of the notation used to represent a labeled dataset. In supervised learning we work with a dataset of $N$ labeled examples, each of which is a pair $(\\mathbf{x}_i, y_i)$, where $\\mathbf{x}_i$ is a $d$-dimensional vector (we always use boldface to denote vectors), and $y_i$ is the label associated with $\\mathbf{x}_i$.  Keep in mind that the formulation of the perceptron algorithm that we used in class relies on the labels being $\\pm 1$, so make sure that is the case for the data you use!\n",
    "\n",
    "In this assignment we will use the following datasets:\n",
    "\n",
    "\n",
    "* The [QSAR](https://archive.ics.uci.edu/dataset/254/qsar+biodegradation) data for predicting the biochemical activity of a molecule.\n",
    "* The [Wisconsin breast cancer dataset](http://scikit-learn.org/stable/modules/generated/sklearn.datasets.load_breast_cancer.html#sklearn.datasets.load_breast_cancer). \n",
    "* The [Gisette](https://archive.ics.uci.edu/dataset/170/gisette) handwritten digit recognition dataset. For this dataset you are provided separate training/validation/test sets.  Since the test set doesn't come with labels, use the validation set for testing the classifier.\n",
    "* The [heart disease diagnosis](https://archive.ics.uci.edu/dataset/45/heart+disease) dataset.\n",
    " "
   ]
  },
  {
   "cell_type": "markdown",
   "metadata": {},
   "source": [
    "## Part 0:  Data Loaders\n",
    "\n",
    "Write data loaders for each of the four datasets listed above.  Use the same API as in assignment 1 for creating the penguins dataset, which mimics the data loaders provided by scikit-learn.\n",
    "\n",
    "For example, a function ```load_qsar``` should return a feature matrix X and labels vector y for this dataset.  Similarly for the other datasets.  For the ```load_breast_cancer``` function, you may use the scikit-learn function that creates the dataset.  Since the gisette dataset has separate training and validation sets (that you will use as training / test sets), you will need to write two data loaders - one for the training set, and one for the test set.  Note that you will need to convert the labels from the values 0,1 to $\\pm 1$, since that is what our perceptron learning algorithm expects as label values.\n",
    "\n",
    "#### Missing values\n",
    "Whenever a dataset has missing values, any training example that has missing features should be removed.  (An alternative to removing training examples is to *impute* missing features, e.g. by replacing missing values by the average of that feature.)\n",
    "\n",
    "#### File structure\n",
    "\n",
    "Store all the files you download in a sub-directory called `data` relative to the location of your notebook.  \n",
    "Make sure to use the filenames specified in each data loader.\n",
    "This will ensure that your code will run properly when we execute your notebook\n",
    "\n",
    "#### A note on the heart disease diagnosis dataset\n",
    "The heart disease diagnosis dataset has several data files associated with it.  Use [this file](http://archive.ics.uci.edu/ml/machine-learning-databases/heart-disease/processed.cleveland.data), where categorical variables have been replaced with numerical vaues.  The last column in the file contains the label associated with each example.  In the processed file, a label `0` corresponds to a healthy individual; other values correspond to varying levels of heart disease.  **In your experiments focus on the binary classification problem of trying to distinguish between healthy and non-healthy individuals.**\n"
   ]
  },
  {
   "cell_type": "code",
   "execution_count": 5,
   "metadata": {},
   "outputs": [],
   "source": [
    "import numpy as np\n",
    "import pandas as pd\n",
    "import sklearn\n",
    "from sklearn.datasets import load_breast_cancer\n",
    "from sklearn.model_selection import train_test_split\n",
    "from sklearn.svm import SVC\n",
    "import matplotlib as plt\n",
    "from sklearn.metrics import accuracy_score"
   ]
  },
  {
   "cell_type": "code",
   "execution_count": null,
   "metadata": {},
   "outputs": [],
   "source": [
    "# complete the following data loaders.\n",
    "# All the data files should be in a sub-folder called \"data\" relative to the\n",
    "# location of your notebook.\n",
    "# In each dataloader we specify the expected filenames you should use\n",
    "# to ensure your notebook runs correctly\n",
    "\n",
    "def load_qsar():\n",
    "    filename='data/biodeg.csv'\n",
    "    biodeg_data = pd.read_csv(filename, delimiter=';', dtype=object, skipinitialspace=True, header=None).values\n",
    "    biodeg_data[biodeg_data[:, -1] == \"RB\", -1] = 1\n",
    "    biodeg_data[biodeg_data[:, -1] == \"NRB\", -1] = -1\n",
    "    qsar_X = biodeg_data[:,:-1].astype(np.float64) \n",
    "    qsar_y = biodeg_data[:,-1].astype(np.float64)\n",
    "    return qsar_X, qsar_y\n",
    "\n",
    "def breast_cancer_loader():\n",
    "    data = load_breast_cancer()\n",
    "    X = data.data\n",
    "    y = data.target\n",
    "    y[y == 0] = -1\n",
    "    return X, y\n",
    "\n",
    "def load_gisette_train():\n",
    "    features_filename='data/gisette_train.data'\n",
    "    labels_filename='data/gisette_train.labels'\n",
    "    train_data = np.loadtxt(features_filename, dtype = float)\n",
    "    train_labels = np.loadtxt(labels_filename, dtype = int)\n",
    "    return train_data, train_labels\n",
    "\n",
    "def load_gisette_test():\n",
    "    features_filename='data/gisette_valid.data'\n",
    "    labels_filename='data/gisette_valid.labels'\n",
    "    valid_data = np.loadtxt(features_filename, dtype = float)\n",
    "    valid_labels = np.loadtxt(labels_filename, dtype = int)\n",
    "    return valid_data, valid_labels\n",
    "    \n",
    "def load_heart():\n",
    "    heart_url = \"https://archive.ics.uci.edu/ml/machine-learning-databases/heart-disease/processed.cleveland.data\"\n",
    "    heart_data = pd.read_csv(heart_url, header=None, na_values='?', dtype=np.float64).values \n",
    "    heart_data = heart_data[~np.isnan(heart_data).any(axis=1)]\n",
    "    X = heart_data[:, :-1]\n",
    "    y = heart_data[:,-1]\n",
    "    return X,y"
   ]
  },
  {
   "cell_type": "markdown",
   "metadata": {},
   "source": [
    "You can use the following function to check that your function returns arrays of the appropriate shapes (you will need to determine how many features / examples each dataset contains).  The only case where this is somewhat of a challenge is the heart dataset, which contains some missing values."
   ]
  },
  {
   "cell_type": "code",
   "execution_count": 7,
   "metadata": {},
   "outputs": [
    {
     "name": "stdout",
     "output_type": "stream",
     "text": [
      "(297, 13)\n",
      "validity for heart dataset:  False\n"
     ]
    }
   ],
   "source": [
    "def data_is_valid(X, y, examples=0, features=0):\n",
    "    return (\n",
    "        X.shape == (examples, features)\n",
    "        and y.shape == (examples,)\n",
    "        and not np.any(np.isnan(X))\n",
    "        and np.all((y==1) | (y==-1))\n",
    "    )\n",
    "\n",
    "# for example:\n",
    "hX, hy = load_heart()\n",
    "qX, qy = load_qsar()\n",
    "gX, gy = load_gisette_train()\n",
    "print(hX.shape)\n",
    "print(\"validity for heart dataset: \", data_is_valid(hX, hy, examples=297, features=13))"
   ]
  },
  {
   "cell_type": "markdown",
   "metadata": {},
   "source": [
    "## Part 1:  Evaluating the Perceptron on Real World Datasets\n",
    "\n",
    "In this part of the assignment you will work with the perceptron algorithm and run it on two real-world datasets.  For comparison, you will also evaluate an [SVM](https://scikit-learn.org/stable/modules/generated/sklearn.svm.SVC.html) classifier on the same datasets.  We will cover SVMs in detail later in the course, and here you will simply use it with its default settings.\n",
    "\n",
    "- Compare the performance of the  perceptron using the implementation we used in class with the SVM classifier on the QSAR and breast cancer diagnosis datasets. Do so by estimating the accuracy on a sample of the data that you reserve for testing (the test set).  In each case reserve  70% of the data for training, and 30% for testing.  To gain more confidence in your error estimates, repeat this experiment using 10 random splits of the data into training/test sets for each algorithm.  Use the same train-test splits for each algorithm.  Report the average accuracy and its standard deviation in a nicely formatted table.  Is there a classifier among the two that appears to perform better?  In answering this, consider the differences in performance you observe in comparison to the standard deviation.  Make sure to let the perceptron algorithm run for a sufficient number of epochs.  In implementing this task, you may use a for loop to iterate over the 10 random splits.\n",
    "\n",
    "A note about the classifier API:  in this course we follow the scikit-learn classifier API, which requires that a classifier have the following methods (in addition to a constructor):\n",
    "\n",
    "* `fit(X, y)`:  trains a classifier using a feature matrix `X` and a labels vector `y`.\n",
    "* `predict(X)`:  given a feature matrix `X`, return a vector of labels for each feature vector represented by `X`.\n",
    "\n",
    "For those interested in more information about the scikit-learn API, here's a [link](https://scikit-learn.org/stable/developers/develop.html).\n"
   ]
  },
  {
   "cell_type": "markdown",
   "metadata": {},
   "source": [
    "### A note about displaying your results\n",
    "\n",
    "We recommend displaying the results of your experiments in the form of an automatically-generated table.  pandas DataFrame objects render nicely in Jupyter notebooks, and are an easy way to achieve this with minimal work.  Here's an example that you can use as a template:"
   ]
  },
  {
   "cell_type": "code",
   "execution_count": 8,
   "metadata": {},
   "outputs": [],
   "source": [
    "class perceptron :\n",
    "    \"\"\"An implementation of the perceptron algorithm.\n",
    "    Note that this implementation does not include a bias term\"\"\"\n",
    " \n",
    "    def __init__(self, iterations=100, learning_rate=0.2, \n",
    "                 plot_data=False, random_w=False, seed=42) :\n",
    "        self.iterations = iterations\n",
    "        self.learning_rate = learning_rate\n",
    "        self.plot_data = plot_data\n",
    "        self.random_w = random_w\n",
    "        self.seed = seed\n",
    "  \n",
    "    def fit(self, X, y) :\n",
    "        \"\"\"\n",
    "        Train a classifier using the perceptron training algorithm.\n",
    "        After training the attribute 'w' will contain the perceptron weight vector.\n",
    " \n",
    "        Parameters\n",
    "        ----------\n",
    " \n",
    "        X : ndarray, shape (num_examples, n_features)\n",
    "        Training data.\n",
    " \n",
    "        y : ndarray, shape (n_examples,)\n",
    "        Array of labels.\n",
    " \n",
    "        \"\"\"\n",
    "        \n",
    "        if self.random_w :\n",
    "            rng = np.random.default_rng(self.seed)\n",
    "            self.w = rng.uniform(-1 , 1, len(X[0]))\n",
    "            print(\"initialized with random weight vector\")\n",
    "        else :\n",
    "            self.w = np.zeros(len(X[0]))\n",
    "            print(\"initialized with a zeros weight vector\")\n",
    "        self.wold = self.w\n",
    "        converged = False\n",
    "        iteration = 0\n",
    "        while (not converged and iteration <= self.iterations) :\n",
    "            converged = True\n",
    "            for i in range(len(X)) :\n",
    "                if y[i] * self.decision_function(X[i]) <= 0 :\n",
    "                    self.wold = self.w\n",
    "                    self.w = self.w + y[i] * self.learning_rate * X[i]\n",
    "                    converged = False\n",
    "                    if self.plot_data:\n",
    "                        self.plot_update(X, y, i)\n",
    "            iteration += 1\n",
    "        self.converged = converged\n",
    "        if converged :\n",
    "            print ('converged in %d iterations ' % iteration)\n",
    " \n",
    "    def decision_function(self, x) :\n",
    "        return np.dot(x, self.w)\n",
    " \n",
    "    def predict(self, X) :\n",
    "        \"\"\"\n",
    "        make predictions using a trained linear classifier\n",
    " \n",
    "        Parameters\n",
    "        ----------\n",
    "        X : ndarray, shape (num_examples, n_features)\n",
    "        Training data.\n",
    "        \"\"\"\n",
    "        scores = np.dot(X, self.w)\n",
    "        return np.sign(scores)\n",
    "    \n",
    "    def plot_update(self, X, y, ipt) :\n",
    "        fig = plt.figure(figsize=(4,4))\n",
    "        plt.xlim(-1,1)\n",
    "        plt.ylim(-1,1)\n",
    "        plt.xlabel(\"Feature 1\")\n",
    "        plt.ylabel(\"Feature 2\")\n",
    "        plt.arrow(0,0,self.w[0],self.w[1], \n",
    "                  width=0.001,head_width=0.05, \n",
    "                  length_includes_head=True, alpha=1,\n",
    "                  linestyle='-',color='darkred')\n",
    "        plt.arrow(0,0,self.wold[0],self.wold[1], \n",
    "                  width=0.001,head_width=0.05, \n",
    "                  length_includes_head=True, alpha=1,\n",
    "                  linestyle='-',color='orange')\n",
    "        anew = -self.w[0]/self.w[1]\n",
    "        pts = np.linspace(-1,1)\n",
    "        plt.plot(pts, anew*pts, color='darkred')\n",
    "        if self.wold[1] != 0 :\n",
    "            aold = -self.wold[0]/self.wold[1]\n",
    "            plt.plot(pts, aold*pts, color='orange')\n",
    "        plt.title(\"in orange:  old w; in red:  new w\")\n",
    "        cols = {1: 'g', -1: 'b'}\n",
    "        for i in range(len(X)): \n",
    "            plt.plot(X[i][0], X[i][1], cols[y[i]]+'o', alpha=0.6,markersize=5) \n",
    "        plt.plot(X[ipt][0], X[ipt][1], 'ro', alpha=0.2,markersize=15)"
   ]
  },
  {
   "cell_type": "code",
   "execution_count": 9,
   "metadata": {},
   "outputs": [
    {
     "name": "stdout",
     "output_type": "stream",
     "text": [
      "initialized with a zeros weight vector\n",
      "initialized with a zeros weight vector\n",
      "initialized with a zeros weight vector\n",
      "initialized with a zeros weight vector\n",
      "initialized with a zeros weight vector\n",
      "initialized with a zeros weight vector\n",
      "initialized with a zeros weight vector\n",
      "initialized with a zeros weight vector\n",
      "initialized with a zeros weight vector\n",
      "initialized with a zeros weight vector\n",
      "initialized with a zeros weight vector\n",
      "initialized with a zeros weight vector\n",
      "initialized with a zeros weight vector\n",
      "initialized with a zeros weight vector\n",
      "initialized with a zeros weight vector\n",
      "initialized with a zeros weight vector\n",
      "initialized with a zeros weight vector\n",
      "initialized with a zeros weight vector\n",
      "initialized with a zeros weight vector\n",
      "initialized with a zeros weight vector\n"
     ]
    }
   ],
   "source": [
    "X_qsar, y_qsar = load_qsar()\n",
    "X_bc, y_bc = breast_cancer_loader()\n",
    "\n",
    "def find_accuracy_values(X, y):\n",
    "    accuracies_perceptron = []\n",
    "    for  i in range(10):\n",
    "        X_train, X_test, y_train, y_test = train_test_split(X, y, test_size=0.3, random_state=i)\n",
    "        perceptron_model = perceptron(iterations=1000, learning_rate=0.2)\n",
    "        perceptron_model.fit(X_train, y_train)\n",
    "        y_pred = perceptron_model.predict(X_test)\n",
    "        accuracy = sklearn.metrics.accuracy_score(y_test, y_pred)\n",
    "        accuracies_perceptron.append(accuracy)\n",
    "    mean_accuracy = np.mean(accuracies_perceptron)\n",
    "    stddev_accuracy = np.std(accuracies_perceptron)\n",
    "    return mean_accuracy, stddev_accuracy\n",
    "\n",
    "def find_svm_values(X,y):\n",
    "    accuracies_svm = []\n",
    "    for  i in range(10):\n",
    "        X_train, X_test, y_train, y_test = train_test_split(X, y, test_size=0.3, random_state=i)\n",
    "        svm = SVC(kernel = 'linear', C=1.0)\n",
    "        svm.fit(X_train, y_train)\n",
    "        y_pred = svm.predict(X_test)\n",
    "        accuracy = accuracy_score(y_test, y_pred)\n",
    "        accuracies_svm.append(accuracy)\n",
    "    mean_svm_accuracy = np.mean(accuracies_svm)\n",
    "    stddev_svm_accuracy = np.std(accuracies_svm)\n",
    "    return mean_svm_accuracy, stddev_svm_accuracy\n",
    "    \n",
    "\n",
    "qsar_mean, qsar_stddev = find_accuracy_values(X_qsar, y_qsar)\n",
    "bc_accuracy, bc_stddev = find_accuracy_values(X_bc, y_bc)\n",
    "qsar_svm_accuracy, qsar_svm_stddev = find_svm_values(X_qsar,y_qsar)\n",
    "bc_svm_accuracy, bc_svm_stddev = find_svm_values(X_bc,y_bc)\n"
   ]
  },
  {
   "cell_type": "code",
   "execution_count": 10,
   "metadata": {},
   "outputs": [
    {
     "data": {
      "text/html": [
       "<div>\n",
       "<style scoped>\n",
       "    .dataframe tbody tr th:only-of-type {\n",
       "        vertical-align: middle;\n",
       "    }\n",
       "\n",
       "    .dataframe tbody tr th {\n",
       "        vertical-align: top;\n",
       "    }\n",
       "\n",
       "    .dataframe thead th {\n",
       "        text-align: right;\n",
       "    }\n",
       "</style>\n",
       "<table border=\"1\" class=\"dataframe\">\n",
       "  <thead>\n",
       "    <tr style=\"text-align: right;\">\n",
       "      <th></th>\n",
       "      <th>Classifier</th>\n",
       "      <th>Mean</th>\n",
       "      <th>StdDev</th>\n",
       "    </tr>\n",
       "  </thead>\n",
       "  <tbody>\n",
       "    <tr>\n",
       "      <th>0</th>\n",
       "      <td>Perceptron (cancer)</td>\n",
       "      <td>0.798738</td>\n",
       "      <td>0.048846</td>\n",
       "    </tr>\n",
       "    <tr>\n",
       "      <th>1</th>\n",
       "      <td>SVM (cancer)</td>\n",
       "      <td>0.881287</td>\n",
       "      <td>0.045603</td>\n",
       "    </tr>\n",
       "    <tr>\n",
       "      <th>2</th>\n",
       "      <td>Perceptron (biodeg)</td>\n",
       "      <td>0.860568</td>\n",
       "      <td>0.008900</td>\n",
       "    </tr>\n",
       "    <tr>\n",
       "      <th>3</th>\n",
       "      <td>SVM (biodeg)</td>\n",
       "      <td>0.959649</td>\n",
       "      <td>0.009942</td>\n",
       "    </tr>\n",
       "  </tbody>\n",
       "</table>\n",
       "</div>"
      ],
      "text/plain": [
       "            Classifier      Mean    StdDev\n",
       "0  Perceptron (cancer)  0.798738  0.048846\n",
       "1         SVM (cancer)  0.881287  0.045603\n",
       "2  Perceptron (biodeg)  0.860568  0.008900\n",
       "3         SVM (biodeg)  0.959649  0.009942"
      ]
     },
     "execution_count": 10,
     "metadata": {},
     "output_type": "execute_result"
    }
   ],
   "source": [
    "data = [\n",
    "    ['Perceptron (cancer)',qsar_mean , qsar_stddev],\n",
    "    ['SVM (cancer)', bc_accuracy, bc_stddev],\n",
    "    ['Perceptron (biodeg)', qsar_svm_accuracy, qsar_svm_stddev],\n",
    "    ['SVM (biodeg)', bc_svm_accuracy, bc_svm_stddev],\n",
    "]\n",
    "pd.DataFrame(data, columns = ['Classifier', 'Mean', 'StdDev'])"
   ]
  },
  {
   "cell_type": "markdown",
   "metadata": {},
   "source": [
    "The svm proved to have a higher accuracy on each of the sets, with less of a deviation as well. This would make sense because svm's reduce the effect of outliers and maximize margins."
   ]
  },
  {
   "cell_type": "markdown",
   "metadata": {},
   "source": [
    "## Part 2:  Learning Curves \n",
    "\n",
    "Whenever we train a classifier it is useful to know if we have collected a sufficient amount of data for accurate classification.  A good way of determining that is to construct a **learning curve**, which is a plot of classifier performance as a function of the number of training examples.  Plot a learning curve for the perceptron algorithm using the [Gisette](http://archive.ics.uci.edu/dataset/170/gisette) handwritten digit recognition dataset. For this dataset use the separately provided validation set for testing your classifiers.  A test set is provided without its labels, so is not usable for us.\n",
    "The x-axis for the plot (number of training examples) should be on a logarithmic scale - something like 10,20,40,80,200,400,800 etc.  In your submission use numbers that are appropriate for the dataset at hand.  Since the x-axis is on a logarithmic scale, plot the learning curve using [plt.semilogx](https://matplotlib.org/stable/api/_as_gen/matplotlib.pyplot.semilogx.html).\n",
    "\n",
    "What can you conclude from the learning curve you have constructed for this particular dataset?\n",
    "\n",
    "In answering this question, you can use the following [wikipedia article](https://en.wikipedia.org/wiki/Learning_curve#In_machine_learning).\n",
    "Make sure that you use a fixed test set to evaluate performance while varying the size of the training set.  Use the Gisette validation set for that purpose.\n",
    "Also, do not use the scikit-learn function for computing the validation curve, or any other scikit-learn functions for this task."
   ]
  },
  {
   "cell_type": "code",
   "execution_count": 11,
   "metadata": {},
   "outputs": [],
   "source": [
    "X_train,y_train = load_gisette_train()\n",
    "X_valid,y_valid = load_gisette_test()"
   ]
  },
  {
   "cell_type": "code",
   "execution_count": 12,
   "metadata": {},
   "outputs": [
    {
     "name": "stdout",
     "output_type": "stream",
     "text": [
      "initialized with a zeros weight vector\n",
      "converged in 3 iterations \n",
      "initialized with a zeros weight vector\n",
      "converged in 5 iterations \n",
      "initialized with a zeros weight vector\n",
      "converged in 5 iterations \n",
      "initialized with a zeros weight vector\n",
      "converged in 6 iterations \n",
      "initialized with a zeros weight vector\n",
      "converged in 7 iterations \n",
      "initialized with a zeros weight vector\n",
      "converged in 7 iterations \n",
      "initialized with a zeros weight vector\n",
      "converged in 8 iterations \n",
      "initialized with a zeros weight vector\n",
      "converged in 13 iterations \n",
      "initialized with a zeros weight vector\n",
      "converged in 13 iterations \n",
      "initialized with a zeros weight vector\n",
      "converged in 12 iterations \n",
      "initialized with a zeros weight vector\n",
      "converged in 12 iterations \n"
     ]
    },
    {
     "data": {
      "image/png": "[encoded data removed]",
      "text/plain": [
       "<Figure size 1300x600 with 1 Axes>"
      ]
     },
     "metadata": {},
     "output_type": "display_data"
    }
   ],
   "source": [
    "import matplotlib.pyplot as plt\n",
    "import numpy as np\n",
    "accuracies = []\n",
    "training_sizes = [10, 20, 40, 80, 200, 400, 800, 2000, 4000, 8000, 20000,]\n",
    "\n",
    "for size in training_sizes:\n",
    "    X_subset = X_train[:size]\n",
    "    y_subset = y_train[:size]\n",
    "\n",
    "    perceptron_model = perceptron(iterations=1000, learning_rate=0.2)\n",
    "    perceptron_model.fit(X_subset, y_subset)\n",
    "    y_pred = perceptron_model.predict(X_valid)\n",
    "    accuracy = np.mean(y_pred == y_valid)\n",
    "    accuracies.append(accuracy)\n",
    "\n",
    "fig = plt.figure(figsize=(13,6))\n",
    "plt.semilogx(training_sizes,accuracies, marker = 'o', linestyle='-')\n",
    "plt.xlabel(\"Training examples\")\n",
    "plt.ylabel(\"Validation Accuracy\")\n",
    "plt.title(\"Learning Curve of a perceptron on the gisette dataset\")\n",
    "plt.grid(True)"
   ]
  },
  {
   "cell_type": "markdown",
   "metadata": {},
   "source": [
    "From this graph you can see that at a lower number of training sets, there is a much lower accuracy but it climbs quickly and peaks at around 10000. "
   ]
  },
  {
   "cell_type": "markdown",
   "metadata": {},
   "source": [
    "## Part 3:  Data standardization \n",
    "\n",
    "In this section we will explore the effect of normalizing the data, focusing on normalization of each feature individually.  In class we saw how to convert each column (i.e. feature) of a data matrix so that it fall in the range $[-1,1]$.  In this assignment we will explore a different approach callled **standardization**.\n",
    "\n",
    "Here's what you need to do:\n",
    "\n",
    "* Write a method to standardize a data matrix, so that each column has zero mean and standard deviation equal to 1.  This is done by subtracting the mean of each column, and dividing by its standard deviation.  See details [here](https://en.wikipedia.org/wiki/Feature_scaling#Standardization_(Z-score_Normalization)).  Scikit-learn has a method called [StandardScaler](https://scikit-learn.org/stable/modules/generated/sklearn.preprocessing.StandardScaler.html) which does this.  Do not use it!  To demonstrate that your method works correctly, show that after standardization, your feature matrix has a zero mean and standard deviation equal to 1 for each column.  Make sure not to use for loops!\n",
    "\n",
    "* Compare the accuracy of the standard perceptron on the heart dataset  with standardization and without it (make sure to evaluate the accuracy on a held out test set).  Like we did earlier, report the accuracy as the average over ten train-test splits.  Which leads to better performance?  Can you explain why?\n"
   ]
  },
  {
   "cell_type": "code",
   "execution_count": 13,
   "metadata": {
    "scrolled": true
   },
   "outputs": [
    {
     "name": "stdout",
     "output_type": "stream",
     "text": [
      "Mean: [-1.05041303e-16 -2.78864100e-16 -4.63527458e-17  4.76143629e-16\n",
      " -2.36156026e-16  5.60718699e-17  1.97372982e-16  5.14365953e-16\n",
      " -2.50454352e-17 -2.79985537e-16  1.27096239e-17 -2.22792230e-16\n",
      " -1.16255677e-16]\n",
      "Std dev: [1. 1. 1. 1. 1. 1. 1. 1. 1. 1. 1. 1. 1.]\n",
      "initialized with a zeros weight vector\n",
      "initialized with a zeros weight vector\n",
      "initialized with a zeros weight vector\n",
      "initialized with a zeros weight vector\n",
      "initialized with a zeros weight vector\n",
      "initialized with a zeros weight vector\n",
      "initialized with a zeros weight vector\n",
      "initialized with a zeros weight vector\n",
      "initialized with a zeros weight vector\n",
      "initialized with a zeros weight vector\n",
      "initialized with a zeros weight vector\n",
      "initialized with a zeros weight vector\n",
      "initialized with a zeros weight vector\n",
      "initialized with a zeros weight vector\n",
      "initialized with a zeros weight vector\n",
      "initialized with a zeros weight vector\n",
      "initialized with a zeros weight vector\n",
      "initialized with a zeros weight vector\n",
      "initialized with a zeros weight vector\n",
      "initialized with a zeros weight vector\n",
      "0.1733333333333333\n",
      "0.11111111111111112\n"
     ]
    }
   ],
   "source": [
    "import numpy as np\n",
    "import sklearn\n",
    "from sklearn.model_selection import train_test_split\n",
    "\n",
    "def standardize(X):\n",
    "    mean = np.mean(X, axis=0)\n",
    "    std = np.std(X, axis=0)\n",
    "    return (X - mean) / std\n",
    "\n",
    "def train_perceptron(X, y):\n",
    "    accuracies = []\n",
    "    \n",
    "    for i in range(10):\n",
    "        X_train, X_test, y_train, y_test = train_test_split(X, y, test_size=0.3)\n",
    "        model = perceptron(iterations = 1000, learning_rate = 0.3, random_w=False, seed=42)\n",
    "        model.fit(X_train, y_train)\n",
    "        y_pred = model.predict(X_test)\n",
    "        accuracy = np.mean(y_pred == y_test)\n",
    "        accuracies.append(accuracy)\n",
    "        mean_accuracy = np.mean(accuracies)\n",
    "    return mean_accuracy\n",
    "\n",
    "heart_X, heart_y = load_heart()\n",
    "standardized_X = standardize(heart_X)\n",
    "\n",
    "print(\"Mean:\", np.mean(standardized_X, axis=0))\n",
    "print(\"Std dev:\", np.std(standardized_X, axis=0))\n",
    "\n",
    "mean_accuracy = train_perceptron(heart_X,heart_y)\n",
    "mean_standardized_accuracy = train_perceptron(standardized_X,heart_y)\n",
    "\n",
    "print(mean_accuracy)\n",
    "print(mean_standardized_accuracy)"
   ]
  },
  {
   "cell_type": "markdown",
   "metadata": {},
   "source": [
    "There was no real indication that the normalization process led to a improvement in the accuracy of the perceptron. I would assume that this is incorrect as normalization is supposed to reduce the variability of the dataset."
   ]
  },
  {
   "cell_type": "markdown",
   "metadata": {},
   "source": [
    "### Part 4:  Use of AI and other web resources\n",
    "\n",
    "In the cell below indicate in detail how you used AI and other web resources for this assignment.  If you used AI tools, indicate how useful they were."
   ]
  },
  {
   "cell_type": "markdown",
   "metadata": {},
   "source": [
    "For this assignment i used a variety of websites, as well as the course website to find the information needed to complete the assignment."
   ]
  },
  {
   "cell_type": "markdown",
   "metadata": {},
   "source": [
    "### Your Report\n",
    "\n",
    "Answer the questions in the cells reserved for that purpose.\n",
    "\n",
    "\n",
    "### Submission\n",
    "\n",
    "Submit your report as a Jupyter notebook via Canvas.  Running the notebook should generate all the results and plots in your notebook.\n",
    "\n",
    "### Grading \n",
    "\n",
    "\n",
    "```\n",
    "Grading sheet for assignment 2\n",
    "Part 0:  20 points\n",
    "Part 1:  40 points\n",
    "Part 2:  20 points\n",
    "Part 3:  20 points\n",
    "```\n",
    "\n"
   ]
  },
  {
   "cell_type": "code",
   "execution_count": null,
   "metadata": {},
   "outputs": [],
   "source": []
  }
 ],
 "metadata": {
  "kernelspec": {
   "display_name": "myenv",
   "language": "python",
   "name": "python3"
  },
  "language_info": {
   "codemirror_mode": {
    "name": "ipython",
    "version": 3
   },
   "file_extension": ".py",
   "mimetype": "text/x-python",
   "name": "python",
   "nbconvert_exporter": "python",
   "pygments_lexer": "ipython3",
   "version": "3.12.3"
  }
 },
 "nbformat": 4,
 "nbformat_minor": 4
}
